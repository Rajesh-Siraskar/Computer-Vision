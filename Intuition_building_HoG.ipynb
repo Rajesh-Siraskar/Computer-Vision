{
 "cells": [
  {
   "cell_type": "markdown",
   "metadata": {},
   "source": [
    "## CodeLab_07: Histogram of Gradients (HoG)\n",
    "\n",
    "### The development process of the HoG function\n",
    "-----------------------------------------------------------------------------------\n",
    "Author: Rajesh Siraskar\n",
    "Created: 01-Jan-2019\n",
    "\n",
    "- The author/student undertook development of the custom HoG function as the last step\n",
    "- Data set creation, model creation using OpenCV HoG function, building a testing notebook etc. were attempted first, before attempting the development of the HoG function\n",
    "- This notebook shows how the understanding un-folded\n",
    "- To the student, being average at understanding algorithms and programming, found the process to be enriching and satisfying once the HoG function was developed satisfactorily and hence has kept this 'Code Lab' notebook for observation by the evaluators   \n",
    "- The **most interesting** moment was the accidental plot of the histograms of magnitudes - which appeared magically to reflect the original image!! Please see cell [8]\n",
    "\n",
    "- The second most statisfying moment was the ability to understand from the original paper (Dalal N., 2006: Appendix D), the binning logic to create the histogram.\n",
    "\n",
    "- This HoG function development started on 01-Jan and attained a satisfactory shape on 06-Jan\n",
    "\n",
    "**Algorithm:**\n",
    "1. Preprocessing. Apply intensity normalization (e.g. conditional scaling) and a smoothing filter on the given image window I.\n",
    "\n",
    "2. Calculate an edge map. Estimate directional derivatives in the x and y directions, and derive the gradient magnitudes and gradient angles for each pixel, generating a magnitude map Im (see Fig. 10.7, right) and an angle map Ia.\n",
    "\n",
    "3. Spatial binning. Perform the following two steps:\n",
    "    - Group pixels in non-overlapping cells (e.g. 8×8 pixels)\n",
    "    - Use maps Im and Ia to accumulate magnitude values into direction bins (e.g., nine bins for intervals of 20◦ each, for covering a full 180◦ range) to obtain a voting vector (e.g. of length 9) for each cell; Integral images can be used for a time-efficient calculation of these sums\n",
    "\n",
    "4. Normalize voting values for generating a descriptor. Perform two steps:\n",
    "    - Group cells (e.g., 2×2 cells) into one block.\n",
    "    - Normalize voting vectors over each block and combine them into one block vector (e.g. four cell vectors into a block vector of length 36).\n",
    "\n",
    "5. Augment all block vectors consecutively; this produces the final HoG descriptor.\n"
   ]
  },
  {
   "cell_type": "code",
   "execution_count": 1,
   "metadata": {
    "collapsed": true
   },
   "outputs": [],
   "source": [
    "# Jupyter specific command to plot images inline with document\n",
    "%matplotlib inline\n",
    "\n",
    "# Import modules\n",
    "import cv2\n",
    "from matplotlib import pyplot as plt # for displaying images and plots\n",
    "import numpy as np\n",
    "from math import floor, pi"
   ]
  },
  {
   "cell_type": "code",
   "execution_count": 2,
   "metadata": {},
   "outputs": [
    {
     "data": {
      "text/plain": [
       "<matplotlib.image.AxesImage at 0x1c58906f240>"
      ]
     },
     "execution_count": 2,
     "metadata": {},
     "output_type": "execute_result"
    },
    {
     "data": {
      "image/png": "[encoded data removed]",
      "text/plain": [
       "<matplotlib.figure.Figure at 0x1c5ffc26588>"
      ]
     },
     "metadata": {},
     "output_type": "display_data"
    }
   ],
   "source": [
    "# Read image\n",
    "img_bgr  = cv2.imread('images/Lab/HoG_lab_1.png')\n",
    "img_rgb  = cv2.cvtColor(img_bgr, cv2.COLOR_BGR2RGB)  \n",
    "img_gray = cv2.cvtColor(img_bgr, cv2.COLOR_BGR2GRAY)\n",
    "\n",
    "# Resize needs cols x rows\n",
    "image = cv2.resize(img_gray, (64, 128))\n",
    "fig, axes = plt.subplots(1, 2, figsize=(6, 4), gridspec_kw=dict(hspace=0.1, wspace=0.1))\n",
    "axes[0].imshow(img_rgb, cmap='bone')\n",
    "axes[1].imshow(image, cmap='bone')"
   ]
  },
  {
   "cell_type": "code",
   "execution_count": 3,
   "metadata": {},
   "outputs": [
    {
     "name": "stdout",
     "output_type": "stream",
     "text": [
      "\n",
      " HoG Parameters\n",
      " ----------------------------\n",
      "   image_size: (128, 64)\n",
      "   cell_size: (8, 8)\n",
      "   block_size: (16, 16)\n",
      "   block_stride: 8\n",
      "   num_bins: 9\n",
      " ----------------------------\n"
     ]
    }
   ],
   "source": [
    "cell_size = (8, 8)\n",
    "block_cells = 2\n",
    "step_cells = 1\n",
    "num_bins = 9\n",
    "    \n",
    "# Size of bounding box     \n",
    "image_size = (image.shape[0], image.shape[1])\n",
    "\n",
    "# Resize needs cols x rows\n",
    "image = cv2.resize(image, (64, 128))\n",
    "\n",
    "# Block size nxn cells. n = block_cells\n",
    "block_size =  (block_cells*cell_size[0], block_cells*cell_size[1])\n",
    "\n",
    "# Block stride - can move say one cell at a time, scanning left to right and top to bottom\n",
    "block_stride = step_cells*cell_size[0]\n",
    "\n",
    "print('\\n HoG Parameters')\n",
    "print(' ----------------------------')\n",
    "print('   image_size:', image_size)\n",
    "print('   cell_size:', cell_size)\n",
    "print('   block_size:', block_size)\n",
    "print('   block_stride:', block_stride)\n",
    "print('   num_bins:', num_bins)\n",
    "print(' ----------------------------')\n",
    "\n",
    "image = np.float32(image)/255.0\n",
    "\n",
    "grad_x = abs(cv2.Sobel(image, cv2.CV_32F, 1, 0, ksize=1))\n",
    "grad_y = abs(cv2.Sobel(image, cv2.CV_32F, 0, 1, ksize=1))\n",
    "\n",
    "Im, Ia = cv2.cartToPolar(grad_x, grad_y, angleInDegrees=True)"
   ]
  },
  {
   "cell_type": "markdown",
   "metadata": {},
   "source": [
    "### HoG Vector using simple binning\n",
    "\n",
    "        Bins: [(0, 20), (20, 40), (40, 60), (60, 80), (80, 100), (100, 120), (120, 140), (140, 160), (160, 180)]        \n",
    "        \n",
    "        Find bin h(x1) based on bin limits such that:\n",
    "        x1 <= x < x2, where x1 and x2 are bin limits\n",
    "         \n",
    "        h(x1) <- h(x1) + x\n",
    "        \n",
    "        Example:\n",
    "        If Ia = 32.00, then the bin is (20, 40). Simply add 32.00 to the existing histogram values"
   ]
  },
  {
   "cell_type": "code",
   "execution_count": 4,
   "metadata": {},
   "outputs": [
    {
     "name": "stdout",
     "output_type": "stream",
     "text": [
      "Binning logic: x1 <= x < x2\n",
      "[(0, 20), (20, 40), (40, 60), (60, 80), (80, 100), (100, 120), (120, 140), (140, 160), (160, 180)]\n"
     ]
    }
   ],
   "source": [
    "angle_slices = int(180.0/num_bins)\n",
    "\n",
    "# Create angle_slices bins (e.g. 20 deg., if num_bins=9)\n",
    "Ia_bins = []\n",
    "for a in range(0, 180, angle_slices):    \n",
    "    Ia_bins.append((a, a+angle_slices))\n",
    "\n",
    "print('Binning logic: x1 <= x < x2')\n",
    "print(Ia_bins)"
   ]
  },
  {
   "cell_type": "code",
   "execution_count": 5,
   "metadata": {
    "collapsed": true
   },
   "outputs": [],
   "source": [
    "# Step.3: Spatial binning\n",
    "# Group pixels in non-overlapping cells (e.g. 8×8 pixels)\n",
    "# Use maps Im and Ia to accumulate magnitude values into direction bins \n",
    "#  (e.g., nine bins for intervals of 20◦ each, for covering a full 180◦ range) \n",
    "#  to obtain a voting vector (e.g. of length 9) for each cell\n",
    "\n",
    "# 1 histogram per cell with 9 bins\n",
    "# Create a collection of bins of num_bins length\n",
    "rows = int(image.shape[0]/cell_size[0])\n",
    "cols = int(image.shape[1]/cell_size[1])\n",
    "\n",
    "# Im_bins = [[[0 for n in range(num_bins)] for c in range(cols)] for r in range(rows)]\n",
    "Im_bins = np.zeros((rows, cols, num_bins))"
   ]
  },
  {
   "cell_type": "markdown",
   "metadata": {},
   "source": [
    "## Binning Logic 1: Simple binning based on boundaries of bins\n",
    "\n",
    "i.e. If x1 <= x < x2, then place x in bin with [x1, x2)"
   ]
  },
  {
   "cell_type": "code",
   "execution_count": 6,
   "metadata": {},
   "outputs": [
    {
     "name": "stdout",
     "output_type": "stream",
     "text": [
      "Binning logic: x1 <= x < x2\n"
     ]
    }
   ],
   "source": [
    "print('Binning logic: x1 <= x < x2')\n",
    "    \n",
    "## Traverse the image starting at top, then left to right, then next row...\n",
    "\n",
    "# Keep track of cells\n",
    "n_cell = 0\n",
    "n_row = 0\n",
    "n_col = 0\n",
    "\n",
    "# Move T-B\n",
    "n_row = 0\n",
    "for y in range(0, image.shape[0], cell_size[0]):\n",
    "    # Move L-R\n",
    "    n_col = 0\n",
    "    for x in range(0, image.shape[1], cell_size[1]):\n",
    "        # Access a pixel in the cell\n",
    "        for px_row in range(y, y+cell_size[1]):\n",
    "            for px_col in range(x, x+cell_size[0]):\n",
    "                # Place the pixel magnitude Im in the appropriate bin\n",
    "                for n_bin in range(num_bins):\n",
    "                    # Binning logic: x1 <= x < x2\n",
    "                    if (Ia[px_row, px_col] >= Ia_bins[n_bin][0] and \n",
    "                        Ia[px_row, px_col] <  Ia_bins[n_bin][1]):\n",
    "                        Im_bins[n_row][n_col][n_bin] += Im[px_row,px_col]\n",
    "\n",
    "                # Placed in one of the 9 (num_bins) bins\n",
    "            # end for cell location along columns\n",
    "        # end for cell location along rows\n",
    "        # Complete cell covered, move to next cell \n",
    "        n_col += 1\n",
    "    # 1 row of cells L-R covered, proceed to next row\n",
    "    n_row+=1\n",
    "# All rows covered L-R, complete image processed  "
   ]
  },
  {
   "cell_type": "code",
   "execution_count": 7,
   "metadata": {},
   "outputs": [
    {
     "name": "stdout",
     "output_type": "stream",
     "text": [
      "\n",
      " ----- HoG Vector using simple binning ----- \n"
     ]
    },
    {
     "data": {
      "image/png": "[encoded data removed]",
      "text/plain": [
       "<matplotlib.figure.Figure at 0x1c5892004e0>"
      ]
     },
     "metadata": {},
     "output_type": "display_data"
    }
   ],
   "source": [
    "print ('\\n ----- HoG Vector using simple binning ----- ')\n",
    "fig, axes = plt.subplots(Im_bins.shape[0], Im_bins.shape[1], figsize=(8, 12), subplot_kw={'xticks':[], 'yticks':[]}, gridspec_kw=dict(hspace=0.2, wspace=0.2))\n",
    "\n",
    "for i in range(Im_bins.shape[0]):\n",
    "    for j in range(Im_bins.shape[1]):\n",
    "        axes[i][j].hist(x=Im_bins[i][j], bins='auto', color='#006590', alpha = 0.6, rwidth=0.85)"
   ]
  },
  {
   "cell_type": "markdown",
   "metadata": {},
   "source": [
    "## Binning Logic 2: HoG Vector based on thesis (Dalal N., 2006: Appendix D)\n",
    "\n",
    "        Here the bins are based on 9 centers:\n",
    "        Ia_bins:  [0, 20, 40, 60, 80, 100, 120, 140, 160]\n",
    "        \n",
    "        Ph.D. Thesis, Navneet DALAL, 2006: 'Finding People in Images and Videos', Appendix 'D'\n",
    "        \n",
    "        If x is value to be interpolated into bins and x is such that it lies between x1 and x2,\n",
    "        where x1 and x2 are centers of two bins and b is the band-width of the bins:\n",
    "        \n",
    "        x1 <= x < x2\n",
    "        \n",
    "        h(x1) <- h(x1) + w * [1 - (x-x1)/b]\n",
    "        h(x2) <- h(x2) + w * (x-x1)/b\n",
    "        \n",
    "        **Note**: The thesis pg: 131, Appendix D, could there be an error? h(x1) mentioned in the eqn. for h(x2)?\n",
    "        \n",
    "        Example:\n",
    "        If Ia = 32.00, the bin centers are 20 <= x < 40\n",
    "        h(x1) <- h(x1) + w * [1 - (32-20)/20] = h(x1) + w * 0.9\n",
    "        h(x2) <- h(x2) + w * [(32-20)/20] = h(x2) + w * 0.1"
   ]
  },
  {
   "cell_type": "code",
   "execution_count": 8,
   "metadata": {},
   "outputs": [
    {
     "name": "stdout",
     "output_type": "stream",
     "text": [
      "Binning logic: Dalal N., 2006: Appendix D\n",
      "[0, 20, 40, 60, 80, 100, 120, 140, 160]\n"
     ]
    }
   ],
   "source": [
    "angle_slices = int(180.0/num_bins)\n",
    "\n",
    "# Create angle_slices bins (e.g. 20 deg., if num_bins=9)\n",
    "Ia_bin_centers = []\n",
    "for a in range(0, 180, angle_slices):    \n",
    "    Ia_bin_centers.append(a)\n",
    "\n",
    "print('Binning logic: Dalal N., 2006: Appendix D')\n",
    "print(Ia_bin_centers)"
   ]
  },
  {
   "cell_type": "code",
   "execution_count": 9,
   "metadata": {},
   "outputs": [
    {
     "data": {
      "text/plain": [
       "[0, 20, 40, 60, 80, 100, 120, 140, 160]"
      ]
     },
     "execution_count": 9,
     "metadata": {},
     "output_type": "execute_result"
    }
   ],
   "source": [
    "# Create bin centers (e.g. 20 deg., if num_bins=9)\n",
    "[angle for angle in range(0, 180, angle_slices)]"
   ]
  },
  {
   "cell_type": "code",
   "execution_count": 10,
   "metadata": {
    "collapsed": true
   },
   "outputs": [],
   "source": [
    "# Step.3: Spatial binning\n",
    "# Group pixels in non-overlapping cells (e.g. 8×8 pixels)\n",
    "# Use maps Im and Ia to accumulate magnitude values into direction bins \n",
    "#  (e.g., nine bins for intervals of 20◦ each, for covering a full 180◦ range) \n",
    "#  to obtain a voting vector (e.g. of length 9) for each cell\n",
    "\n",
    "# 1 histogram per cell with 9 bins\n",
    "# Create a collection of bins of num_bins length\n",
    "rows = int(image.shape[0]/cell_size[0])\n",
    "cols = int(image.shape[1]/cell_size[1])\n",
    "\n",
    "#Im_bins = [[[0 for n in range(num_bins)] for c in range(cols)] for r in range(rows)]\n",
    "Im_bins = np.zeros((rows, cols, num_bins))"
   ]
  },
  {
   "cell_type": "code",
   "execution_count": 11,
   "metadata": {},
   "outputs": [
    {
     "name": "stdout",
     "output_type": "stream",
     "text": [
      "Binning logic: Dalal N., 2006: Appendix D\n"
     ]
    }
   ],
   "source": [
    "print('Binning logic: Dalal N., 2006: Appendix D')\n",
    "\n",
    "## Traverse the image starting at top, then left to right, then next row...\n",
    "\n",
    "# Keep track of cells\n",
    "n_cell = 0\n",
    "n_row = 0\n",
    "n_col = 0\n",
    "\n",
    "# Histogram bin band-width\n",
    "b = Ia_bin_centers[1] - Ia_bin_centers[0]\n",
    "\n",
    "# Move T-B\n",
    "n_row = 0\n",
    "for y in range(0, image.shape[0], cell_size[0]):\n",
    "    # Move L-R\n",
    "    n_col = 0\n",
    "    for x in range(0, image.shape[1], cell_size[1]):\n",
    "        # Access a pixel in the cell\n",
    "        for px_row in range(y, y+cell_size[1]):\n",
    "            for px_col in range(x, x+cell_size[0]):\n",
    "                \n",
    "                ### Binning logic: Dalal N., 2006: Appendix D\n",
    "                # Place the pixel magnitude Im in the appropriate bin\n",
    "                # x1 <= x < x2\n",
    "                # h(x1) <- h(x1) + w * [1 - (x-x1)/b]\n",
    "                # h(x2) <- h(x1) + w * (x-x1)/b\n",
    "                # w = Im at that pixel itself\n",
    "                for n_bin in range(num_bins):\n",
    "                    if (Ia[px_row, px_col] >= Ia_bin_centers[n_bin] and \n",
    "                        Ia[px_row, px_col] <  Ia_bin_centers[n_bin+1]):\n",
    "\n",
    "                        # Allow if we are at last-but-one bin\n",
    "                        if (n_bin+1 < num_bins):\n",
    "                            Im_bins[n_row][n_col][n_bin] += Im[px_row,px_col] * (1 - (Ia[px_row,px_col] - Ia_bin_centers[n_bin])/b)\n",
    "                            Im_bins[n_row][n_col][n_bin+1] += Im[px_row,px_col] * (Ia[px_row,px_col] - Ia_bin_centers[n_bin])/b\n",
    "                        else:\n",
    "                            # Split into last and 1st bins:\n",
    "                            Im_bins[n_row][n_col][n_bin] += Im[px_row,px_col] * (1 - (Ia[px_row,px_col] - Ia_bin_centers[n_bin])/b)\n",
    "                            Im_bins[n_row][n_col][0] += Im[px_row,px_col] * (Ia[px_row,px_col] - Ia_bin_centers[n_bin])/b\n",
    "\n",
    "                # Placed in one of the 9 (num_bins) bins\n",
    "            # end for cell location along columns\n",
    "        # end for cell location along rows\n",
    "        # Complete cell covered, move to next cell \n",
    "        n_col += 1\n",
    "    # 1 row of cells L-R covered, proceed to next row\n",
    "    n_row+=1\n",
    "# All rows covered L-R, complete image processed\n",
    "\n",
    "# Create a feature vector\n",
    "hog_features = Im_bins.ravel().reshape(-1, 1)"
   ]
  },
  {
   "cell_type": "code",
   "execution_count": 25,
   "metadata": {},
   "outputs": [
    {
     "name": "stdout",
     "output_type": "stream",
     "text": [
      "\n",
      " ------ HoG Vector based on thesis (Dalal N., 2006: Appendix D ------ \n"
     ]
    },
    {
     "data": {
      "image/png": "[encoded data removed]",
      "text/plain": [
       "<matplotlib.figure.Figure at 0x253a57935f8>"
      ]
     },
     "metadata": {},
     "output_type": "display_data"
    }
   ],
   "source": [
    "print ('\\n ------ HoG Vector based on thesis (Dalal N., 2006: Appendix D ------ ')\n",
    "\n",
    "fig, axes = plt.subplots(Im_bins.shape[0], Im_bins.shape[1], figsize=(8, 12), subplot_kw={'xticks':[], 'yticks':[]}, gridspec_kw=dict(hspace=0.2, wspace=0.2))\n",
    "\n",
    "for i in range(Im_bins.shape[0]):\n",
    "    for j in range(Im_bins.shape[1]):\n",
    "        axes[i][j].hist(x=Im_bins[i][j], bins='auto', color='#006590', alpha = 0.6, rwidth=0.85)"
   ]
  },
  {
   "cell_type": "code",
   "execution_count": null,
   "metadata": {
    "collapsed": true
   },
   "outputs": [],
   "source": []
  }
 ],
 "metadata": {
  "kernelspec": {
   "display_name": "Python 3",
   "language": "python",
   "name": "python3"
  },
  "language_info": {
   "codemirror_mode": {
    "name": "ipython",
    "version": 3
   },
   "file_extension": ".py",
   "mimetype": "text/x-python",
   "name": "python",
   "nbconvert_exporter": "python",
   "pygments_lexer": "ipython3",
   "version": "3.6.3"
  }
 },
 "nbformat": 4,
 "nbformat_minor": 2
}
