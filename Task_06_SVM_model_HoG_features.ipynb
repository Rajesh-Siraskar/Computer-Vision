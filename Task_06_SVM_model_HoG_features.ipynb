{
 "cells": [
  {
   "cell_type": "markdown",
   "metadata": {},
   "source": [
    "## Task 6: Train a Support Vector model to identify pedestrians\n",
    "\n",
    "### Use Histogram of Gradients (HoG) as feature vectors\n",
    "---------------------------------------------------------------------------------------------\n",
    "Author: Rajesh Siraskar Created: 26-Dec-2018\n",
    "\n",
    "- 26-Dec-2018: First version - extended from Task 4 (Random Forests' model)\n",
    "- 09-Jan-2019: Second version. Extended from the Random Forests HoG version\n",
    "\n",
    "**Objective:**\n",
    "- Train an sklearn SVM on **HoG feature vectors** generated using the HoG function\n",
    "\n",
    "**Instructions:**\n",
    "- Use a balanced 70/30 train/test split\n",
    "- Read the files appearing in the output train/test lists and store them as image matrices\n",
    "- Process these with your HOG descriptor function before passing the resulting vectors to the classifier\n",
    "- Use the Sklearn default parameters for the sklearn class for this task\n",
    "- Report on performance on the 30% split\n",
    "- Repeat this with different random splits and report the mean accuracy on the 30% ‘test’ sets"
   ]
  },
  {
   "cell_type": "code",
   "execution_count": 1,
   "metadata": {
    "collapsed": true
   },
   "outputs": [],
   "source": [
    "reset -f"
   ]
  },
  {
   "cell_type": "code",
   "execution_count": 22,
   "metadata": {
    "collapsed": true
   },
   "outputs": [],
   "source": [
    "## Imports\n",
    "\n",
    "# Plot images inline with document\n",
    "%matplotlib inline\n",
    "\n",
    "# Import standard modules\n",
    "import cv2            # OpenCV \n",
    "import numpy as np    # N dimensional array handling\n",
    "import random         # random shuffling\n",
    "import glob           # file handling\n",
    "import seaborn as sns # graphics \n",
    "from matplotlib import pyplot as plt    # displaying images and plots\n",
    "from sklearn.externals import joblib    # object serialization\n",
    "from sklearn import metrics             # classification metrics\n",
    "from sklearn.model_selection import cross_val_predict # for cross validation\n",
    "\n",
    "from sklearn.svm import SVC # Support vector classifier\n",
    "\n",
    "# Import custom functions\n",
    "from SplitInstancesIntoTrainingAndTestSets import SplitInstancesIntoTrainingAndTestSets\n",
    "from HoG_V2 import HoG_V2"
   ]
  },
  {
   "cell_type": "markdown",
   "metadata": {},
   "source": [
    "### Create training and test sets\n",
    "- Create class balanced training and test sets\n",
    "- Read the image files as numpy pixel arrays"
   ]
  },
  {
   "cell_type": "code",
   "execution_count": 3,
   "metadata": {
    "collapsed": true
   },
   "outputs": [],
   "source": [
    "## Set top level parameters\n",
    "\n",
    "# Image folders\n",
    "path_positive = 'images/training_positive_instances/'\n",
    "path_negative = 'images/training_negative_instances/'\n",
    "file_type = '*.png'\n",
    "\n",
    "# Limit training instances for experimentation\n",
    "LIMIT_INSTANCES = False"
   ]
  },
  {
   "cell_type": "code",
   "execution_count": 4,
   "metadata": {},
   "outputs": [
    {
     "name": "stdout",
     "output_type": "stream",
     "text": [
      "Positive instances:  3070\n",
      "Negative instances:  2371\n",
      "Minimum instances for class balancing:  2371\n",
      "CHECK: Classes balanced. Number of instances in both:  2371\n",
      "\n",
      "SPLIT DATA SET\n",
      "- Total instances: 4742\n",
      "- Training instances: 3319\n",
      "- Test instances: 1423\n"
     ]
    }
   ],
   "source": [
    "train_set, test_set = SplitInstancesIntoTrainingAndTestSets(path_positive, path_negative)"
   ]
  },
  {
   "cell_type": "markdown",
   "metadata": {},
   "source": [
    "SplitInstancesIntoTrainingAndTestSets() returns a list of tuples: format is ('class', 'image_file_name')"
   ]
  },
  {
   "cell_type": "code",
   "execution_count": 5,
   "metadata": {
    "collapsed": true
   },
   "outputs": [],
   "source": [
    "# Import all training image files and read into image arrays\n",
    "train_image_files = []\n",
    "train_labels = []\n",
    "\n",
    "# Move through the test_set list of tuples to separate out the file names\n",
    "train_image_files = [files for (labels, files) in train_set]\n",
    "\n",
    "# Next, separate out the class labels from train_set list of tuples\n",
    "train_labels = [labels for (labels, files) in train_set]"
   ]
  },
  {
   "cell_type": "code",
   "execution_count": 6,
   "metadata": {
    "collapsed": true
   },
   "outputs": [],
   "source": [
    "# Import all testing image files and read into image arrays\n",
    "test_image_files = []\n",
    "test_labels = []\n",
    "\n",
    "# test_set is a list of tuples: format is ('class', 'image_file_name')\n",
    "\n",
    "# Move through the test_set list of tuples to separate out the file names\n",
    "test_image_files = [files for (labels, files) in test_set]\n",
    "\n",
    "# Next, separate out the class labels from test_set list of tuples\n",
    "test_labels = [labels for (labels, files) in test_set]"
   ]
  },
  {
   "cell_type": "markdown",
   "metadata": {},
   "source": [
    "**Convert labels to binary representations**\n",
    "\n",
    "positive = 1\n",
    "negative = 0"
   ]
  },
  {
   "cell_type": "code",
   "execution_count": 7,
   "metadata": {
    "collapsed": true
   },
   "outputs": [],
   "source": [
    "y_test = [1 if 'positive' in label else 0 for label in test_labels]\n",
    "y_train = [1 if 'positive' in label else 0 for label in train_labels]"
   ]
  },
  {
   "cell_type": "markdown",
   "metadata": {
    "collapsed": true
   },
   "source": [
    "## Limit instances for quick experimentation"
   ]
  },
  {
   "cell_type": "code",
   "execution_count": 8,
   "metadata": {
    "collapsed": true
   },
   "outputs": [],
   "source": [
    "# If limited then take only 100 total instances, 70 training and 30 testing\n",
    "\n",
    "if (LIMIT_INSTANCES and len(train_image_files) >= 70 and len(test_image_files) >= 30): \n",
    "    n_train = 70\n",
    "    n_test = 30\n",
    "    \n",
    "    train_image_files = train_image_files[0:n_train]\n",
    "    y_train = y_train[0:n_train]\n",
    "\n",
    "    test_image_files = test_image_files[0:n_test]\n",
    "    y_test = y_test[0:n_test]\n",
    "    \n",
    "    print('\\n *** WARNING: Limited data-set being used')"
   ]
  },
  {
   "cell_type": "markdown",
   "metadata": {},
   "source": [
    "## Gather the training and test images based on the file names"
   ]
  },
  {
   "cell_type": "code",
   "execution_count": 9,
   "metadata": {
    "collapsed": true
   },
   "outputs": [],
   "source": [
    "# Move through all .png files in folder and append to a local array of images\n",
    "train_images = np.array([np.array(cv2.imread(image_file, cv2.IMREAD_GRAYSCALE)) \n",
    "                            for image_file in train_image_files])"
   ]
  },
  {
   "cell_type": "code",
   "execution_count": 10,
   "metadata": {
    "collapsed": true
   },
   "outputs": [],
   "source": [
    "# Move through all .png files in folder and append to a local array of images\n",
    "test_images = np.array([np.array(cv2.imread(image_file, cv2.IMREAD_GRAYSCALE)) \n",
    "                            for image_file in test_image_files])"
   ]
  },
  {
   "cell_type": "markdown",
   "metadata": {},
   "source": [
    "### Assign the image height and width to variables that will be used as testing view ports"
   ]
  },
  {
   "cell_type": "code",
   "execution_count": 11,
   "metadata": {
    "collapsed": true
   },
   "outputs": [],
   "source": [
    "# Default positive size: 216x82 pixels\n",
    "training_image_H = train_images.shape[1]\n",
    "training_image_W = train_images.shape[2]"
   ]
  },
  {
   "cell_type": "markdown",
   "metadata": {},
   "source": [
    "### Show random sample of images to test import"
   ]
  },
  {
   "cell_type": "code",
   "execution_count": 12,
   "metadata": {},
   "outputs": [
    {
     "data": {
      "image/png": "[encoded data removed]",
      "text/plain": [
       "<matplotlib.figure.Figure at 0x2c3657dab70>"
      ]
     },
     "metadata": {},
     "output_type": "display_data"
    }
   ],
   "source": [
    "# Show few images to test import  \n",
    "fig, axes = plt.subplots(1, 6, figsize=(10, 2),\n",
    "                         gridspec_kw=dict(hspace=0.1, wspace=0.1))\n",
    "\n",
    "for i, ax in enumerate(axes.flat):\n",
    "    index = random.sample(range(len(train_images)-1),1)[0]\n",
    "    sample_image = train_images[index]\n",
    "    class_label = train_labels[index]\n",
    "    ax.imshow(sample_image, cmap='bone')\n",
    "    ax.set(xticks=[], yticks=[], xlabel=class_label)\n",
    "    ax.set(xticks=[], yticks=[], xlabel=class_label)\n",
    "    if (class_label == 'positive'): ax.xaxis.label.set_color('blue')\n",
    "    if (class_label == 'negative'): ax.xaxis.label.set_color('red')"
   ]
  },
  {
   "cell_type": "code",
   "execution_count": 13,
   "metadata": {},
   "outputs": [
    {
     "name": "stdout",
     "output_type": "stream",
     "text": [
      "NumPy Array of TRAINING images created. Shape: (3319, 216, 82)\n",
      "Flattened array of images. Shape: (3319, 17712)\n"
     ]
    }
   ],
   "source": [
    "# Check dimensions of original images array\n",
    "print('NumPy Array of TRAINING images created. Shape:', train_images.shape)\n",
    "\n",
    "# Flatten them to suit manipulation\n",
    "# Find number of images and it's dimensions\n",
    "\n",
    "n_images = len(train_images)\n",
    "n_image_height = train_images[0].shape[0]\n",
    "n_image_width = train_images[0].shape[1]\n",
    "\n",
    "# Flatten 2-D images into singlular rows of data (1-D)\n",
    "X_train = train_images.flatten().reshape(n_images, n_image_height*n_image_width)\n",
    "\n",
    "print('Flattened array of images. Shape:', X_train.shape)"
   ]
  },
  {
   "cell_type": "code",
   "execution_count": 14,
   "metadata": {},
   "outputs": [
    {
     "name": "stdout",
     "output_type": "stream",
     "text": [
      "NumPy Array of TEST images created. Shape: (1423, 216, 82)\n",
      "Flattened array of images. Shape: (1423, 17712)\n"
     ]
    }
   ],
   "source": [
    "# Check dimensions of original images array\n",
    "print('NumPy Array of TEST images created. Shape:', test_images.shape)\n",
    "\n",
    "# Flatten them to suit manipulation\n",
    "# Find number of images and it's dimensions\n",
    "n_images = test_images.shape[0]\n",
    "n_image_height = test_images.shape[1]\n",
    "n_image_width = test_images.shape[2]\n",
    "\n",
    "# Flatten 2-D images into singlular rows of data (1-D)\n",
    "X_test = test_images.flatten().reshape(n_images, n_image_height*n_image_width)\n",
    "\n",
    "print('Flattened array of images. Shape:', X_test.shape)"
   ]
  },
  {
   "cell_type": "markdown",
   "metadata": {},
   "source": [
    "## Save data for re-use later\n",
    "\n",
    "**pickel** allows serialising objects in binay format.\n",
    "\n",
    "This allows string the data and models created above for later re-use. This will reduce duplication of Notebook code for subsequent Notebooks"
   ]
  },
  {
   "cell_type": "code",
   "execution_count": 15,
   "metadata": {},
   "outputs": [
    {
     "name": "stdout",
     "output_type": "stream",
     "text": [
      "\n",
      " Training and test data serialized\n"
     ]
    }
   ],
   "source": [
    "# Save the image data for re-use later\n",
    "joblib.dump(train_images, 'serialised_model_data/train_images.pkl')\n",
    "joblib.dump(train_labels, 'serialised_model_data/train_labels.pkl')\n",
    "joblib.dump(X_train, 'serialised_model_data/X_train.pkl')\n",
    "joblib.dump(y_train, 'serialised_model_data/y_train.pkl')\n",
    "\n",
    "joblib.dump(test_images, 'serialised_model_data/test_images.pkl')\n",
    "joblib.dump(test_labels, 'serialised_model_data/test_labels.pkl')\n",
    "joblib.dump(X_test, 'serialised_model_data/X_test.pkl')\n",
    "joblib.dump(y_test, 'serialised_model_data/y_test.pkl')\n",
    "\n",
    "print('\\n Training and test data serialized')"
   ]
  },
  {
   "cell_type": "markdown",
   "metadata": {},
   "source": [
    "## Create Histogram of Gradients (HoG) as feature vectors\n",
    "\n",
    "**Parameters**:\n",
    "\n",
    "- cell_size: size of cell in nxn pixels (default (8, 8))\n",
    "- block_cells: multiplier i.e. m cells high and wide (default=2) \n",
    "- step_cells: number of cells by which a step is made while scanning bounding box left to right and top to bottom (default=1)\n",
    "- num_bins: number of 'directional' (bins of direction i.e. angle of the gradient vectors) (default = 9)"
   ]
  },
  {
   "cell_type": "code",
   "execution_count": 16,
   "metadata": {},
   "outputs": [
    {
     "name": "stdout",
     "output_type": "stream",
     "text": [
      "\n",
      " HoG Parameters\n",
      " image_size: (216, 82)\n",
      "\n",
      " HoG Parameters\n",
      "   image_size: (216, 82)\n",
      "   cell_size: (8, 8)\n",
      "   block_size: 2\n",
      "   block_stride: 1\n",
      "   num_bins: 9\n",
      "   apply_filter: BILATERAL\n",
      "   filter_param: 120\n"
     ]
    }
   ],
   "source": [
    "n_images = test_images.shape[0]\n",
    "n_image_height = test_images.shape[1]\n",
    "n_image_width = test_images.shape[2]\n",
    "\n",
    "image_size = (n_image_height, n_image_width)\n",
    "\n",
    "# Cell size of 8 pixels x 8 pixels\n",
    "cell_size = (8, 8)\n",
    "\n",
    "# Block size of 2x2 cells\n",
    "block_size =   2\n",
    "\n",
    "# Block stride - can move say one cell at a time, scanning left to right and top to bottom\n",
    "block_stride = 1\n",
    "\n",
    "# Number of 'directional' bins: 180 degs./20 deg bins = 9 bins\n",
    "num_bins = 9\n",
    "\n",
    "# Filtering Options 'BILATERAL', 'GAUSSIAN' \n",
    "# For Gaussian: All three parameters (ksize.width, ksize.height) and sigma assumed to take the value filter_param\n",
    "# For Bilateral: filter_param = Sigma values\n",
    "# Sigma values: Small (< 10), filter will not have much effect, if large (> 150), \n",
    "#     = > strong effect, making the image look sketch like/cartoonish\n",
    "    \n",
    "apply_filter = 'BILATERAL'\n",
    "filter_param = 120\n",
    "\n",
    "print('\\n HoG Parameters')\n",
    "print('   image_size:', image_size)\n",
    "print('   cell_size:', cell_size)\n",
    "print('   block_size:', block_size)\n",
    "print('   block_stride:', block_stride)\n",
    "print('   num_bins:', num_bins)\n",
    "print('   apply_filter:', apply_filter)\n",
    "print('   filter_param:', filter_param)"
   ]
  },
  {
   "cell_type": "code",
   "execution_count": 17,
   "metadata": {},
   "outputs": [
    {
     "name": "stdout",
     "output_type": "stream",
     "text": [
      "\n",
      " - Training and test data HoG features created.\n",
      "Wall time: 28min 20s\n"
     ]
    }
   ],
   "source": [
    "%%time\n",
    "train_hog_features = [HoG_V2(img, apply_filter=apply_filter, filter_param=filter_param) for img in train_images] \n",
    "test_hog_features = [HoG_V2(img, apply_filter=apply_filter, filter_param=filter_param) for img in test_images] \n",
    "print('\\n - Training and test data HoG features created.')"
   ]
  },
  {
   "cell_type": "code",
   "execution_count": 18,
   "metadata": {},
   "outputs": [
    {
     "name": "stdout",
     "output_type": "stream",
     "text": [
      "train data: (3319, 1152, 1)\n",
      "test data: (1423, 1152, 1)\n"
     ]
    }
   ],
   "source": [
    "X_train = np.array(train_hog_features)\n",
    "X_test = np.array(test_hog_features)\n",
    "print('train data:', X_train.shape)\n",
    "print('test data:', X_test.shape)"
   ]
  },
  {
   "cell_type": "code",
   "execution_count": 19,
   "metadata": {},
   "outputs": [
    {
     "name": "stdout",
     "output_type": "stream",
     "text": [
      "train data: (3319, 1152)\n",
      "test data: (1423, 1152)\n"
     ]
    }
   ],
   "source": [
    "X_train = np.squeeze(X_train)\n",
    "X_test = np.squeeze(X_test)\n",
    "print('train data:', X_train.shape)\n",
    "print('test data:', X_test.shape)"
   ]
  },
  {
   "cell_type": "markdown",
   "metadata": {},
   "source": [
    "### Create a Support Vector Machine (SVM) classifier and train it"
   ]
  },
  {
   "cell_type": "code",
   "execution_count": 23,
   "metadata": {},
   "outputs": [
    {
     "name": "stdout",
     "output_type": "stream",
     "text": [
      "\n",
      " - SVM Model trained on HoG features\n",
      "Wall time: 12.6 s\n"
     ]
    }
   ],
   "source": [
    "%%time\n",
    "svm_classifier = SVC(probability=True)\n",
    "svm_classifier.fit(X_train, y_train)\n",
    "print('\\n - SVM Model trained on HoG features')"
   ]
  },
  {
   "cell_type": "code",
   "execution_count": 24,
   "metadata": {
    "collapsed": true
   },
   "outputs": [],
   "source": [
    "y_predicted = svm_classifier.predict(X_test)\n",
    "y_scores = svm_classifier.predict_proba(X_test)[:, 1]"
   ]
  },
  {
   "cell_type": "markdown",
   "metadata": {},
   "source": [
    "## Classification Results\n",
    "1. Precision, Recall and F1-scores\n",
    "2. Confusion matrix"
   ]
  },
  {
   "cell_type": "code",
   "execution_count": 25,
   "metadata": {},
   "outputs": [
    {
     "name": "stdout",
     "output_type": "stream",
     "text": [
      "             precision    recall  f1-score   support\n",
      "\n",
      "          0       0.99      0.99      0.99       716\n",
      "          1       0.99      0.99      0.99       707\n",
      "\n",
      "avg / total       0.99      0.99      0.99      1423\n",
      "\n"
     ]
    },
    {
     "data": {
      "image/png": "[encoded data removed]",
      "text/plain": [
       "<matplotlib.figure.Figure at 0x2c3709c3978>"
      ]
     },
     "metadata": {},
     "output_type": "display_data"
    }
   ],
   "source": [
    "print(metrics.classification_report(y_test, y_predicted))\n",
    "\n",
    "mat = metrics.confusion_matrix(y_test, y_predicted)\n",
    "\n",
    "# Show heat-map with totals in integer format\n",
    "sns.set()  #  set to seaborn defaults\n",
    "sns.heatmap(mat.T, square=True, annot=True, fmt='d', cbar=True,\n",
    "            xticklabels=['Pedestrian','No pedestrian'], yticklabels=['Pedestrian','No pedestrian'])\n",
    "plt.xlabel('Actual class')\n",
    "plt.ylabel('Predicted class');"
   ]
  },
  {
   "cell_type": "code",
   "execution_count": 26,
   "metadata": {},
   "outputs": [
    {
     "name": "stdout",
     "output_type": "stream",
     "text": [
      "Average precision-recall score: 1.000\n",
      "Area under the ROC curve:       1.000\n"
     ]
    }
   ],
   "source": [
    "precisions, recalls, thresholds = metrics.precision_recall_curve(y_test, y_scores)\n",
    "average_precision = metrics.average_precision_score(y_test, y_scores)\n",
    "AUC_score = metrics.roc_auc_score(y_test, y_scores)\n",
    "\n",
    "print('Average precision-recall score: {0:0.3f}'.format(average_precision))\n",
    "print('Area under the ROC curve:       {0:0.3f}'.format(AUC_score))"
   ]
  },
  {
   "cell_type": "code",
   "execution_count": 27,
   "metadata": {
    "scrolled": true
   },
   "outputs": [
    {
     "data": {
      "image/png": "[encoded data removed]",
      "text/plain": [
       "<matplotlib.figure.Figure at 0x2c3709e3e10>"
      ]
     },
     "metadata": {},
     "output_type": "display_data"
    }
   ],
   "source": [
    "plt.step(recalls, precisions, color='#49a4aa')\n",
    "plt.fill_between(recalls, precisions, alpha=0.45, color='#49a4aa')\n",
    "\n",
    "plt.xlabel('Recall')\n",
    "plt.ylabel('Precision')\n",
    "plt.ylim([0.0, 1.05])\n",
    "plt.xlim([0.0, 1.00])\n",
    "plt.title('Precision-Recall curve [Avg. Precision: {0:0.2f}]'.format(average_precision))\n",
    "\n",
    "plt.show()"
   ]
  },
  {
   "cell_type": "code",
   "execution_count": 28,
   "metadata": {
    "collapsed": true
   },
   "outputs": [],
   "source": [
    "# Pastel colors: \n",
    "# Blue #002BA1 Sea-green: #49a4aa. Dark red: #c90000. Light-purple-red \n",
    "\n",
    "# Ref.: Aurelien Geron Hands-on Machine Learning with Scikit Learn and TensorFlow pg:89\n",
    "def plot_precision_recall_vs_threshold (precisions, recalls, thresholds):\n",
    "    plt.plot(thresholds, precisions[:-1], linestyle = 'solid', color='#49a4aa', label='Precision')\n",
    "    plt.plot(thresholds, recalls[:-1], linestyle = 'solid', color='#b86b77', label='Recall')\n",
    "    plt.xlabel('Threshold')\n",
    "    plt.legend(loc='lower left')\n",
    "    plt.ylim([0,1])"
   ]
  },
  {
   "cell_type": "code",
   "execution_count": 29,
   "metadata": {},
   "outputs": [
    {
     "data": {
      "image/png": "[encoded data removed]",
      "text/plain": [
       "<matplotlib.figure.Figure at 0x2c370ddd160>"
      ]
     },
     "metadata": {},
     "output_type": "display_data"
    }
   ],
   "source": [
    "plot_precision_recall_vs_threshold(precisions, recalls, thresholds)"
   ]
  },
  {
   "cell_type": "markdown",
   "metadata": {},
   "source": [
    "### Store model for future testing or re-use"
   ]
  },
  {
   "cell_type": "code",
   "execution_count": 31,
   "metadata": {},
   "outputs": [
    {
     "name": "stdout",
     "output_type": "stream",
     "text": [
      "\n",
      " SVM model serialized\n"
     ]
    }
   ],
   "source": [
    "# Save the model for reuse later\n",
    "\n",
    "joblib.dump(svm_classifier, 'serialised_model_data/svm_model_HoG.pkl')\n",
    "print('\\n SVM model serialized')"
   ]
  },
  {
   "cell_type": "code",
   "execution_count": null,
   "metadata": {
    "collapsed": true
   },
   "outputs": [],
   "source": []
  }
 ],
 "metadata": {
  "kernelspec": {
   "display_name": "Python 3",
   "language": "python",
   "name": "python3"
  },
  "language_info": {
   "codemirror_mode": {
    "name": "ipython",
    "version": 3
   },
   "file_extension": ".py",
   "mimetype": "text/x-python",
   "name": "python",
   "nbconvert_exporter": "python",
   "pygments_lexer": "ipython3",
   "version": "3.6.3"
  }
 },
 "nbformat": 4,
 "nbformat_minor": 2
}
